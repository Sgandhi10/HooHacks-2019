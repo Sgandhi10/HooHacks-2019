{
 "cells": [
  {
   "cell_type": "code",
   "execution_count": null,
   "metadata": {},
   "outputs": [],
   "source": [
    "from numpy import array\n",
    "import pandas as pd\n",
    "import numpy as np\n",
    "import glob\n",
    "import numpy.core.multiarray\n",
    "\n",
    "upperLimit = int(df.shape[0]*0.8)\n",
    "trainData = df[:upperLimit]\n",
    "\n",
    "\n",
    "train_x = trainData.drop(columns = [\"currLoanDelinquencyStatus\"]) #title of column that says whether they defaulted\n",
    "\n",
    "train_y = to_categorical(trainData.currLoanDelinquencyStatus)\n",
    "model = Sequential()\n",
    "n_cols = train_x.shape[1]\n",
    "\n",
    "model.add(Dense(250, activation = \"relu\", input_shape = (n_cols,)))\n",
    "model.add(Dense(200, activation = \"relu\", input_shape = (n_cols,)))\n",
    "model.add(Dense(150, activation = \"relu\", input_shape = (n_cols,)))\n",
    "model.add(Dense(100, activation = \"relu\", input_shape = (n_cols,)))\n",
    "model.add(Dense(50, activation = \"relu\", input_shape = (n_cols,)))\n",
    "\n",
    "model.add(Dense(2, activation = \"softmax\"))\n",
    "\n",
    "model.compile(optimizer=\"adam\", loss = \"categorical_crossentropy\", metrics = [\"accuracy\"])\n",
    "\n",
    "early_stopping_monitor = EarlyStopping(patience = 5)\n",
    "\n",
    "model.fit(train_x, train_y, batch_size = 500, epochs = 50, validation_split=0.1, callbacks=[early_stopping_monitor])\n",
    "\n",
    "def predictModel(L):\n",
    "  #L = [currIntRate, currActualUPB, loanAge, remainingMonthsToLegalMaturity, origIntRate, orgUPB, orgLoanTerm, orgCombinedLTV, \n",
    "  #      numBorrowers, orgDebttoIncomeRatio, borrowerCreditScoreAtOrigination, firstTimeHomeBuyer, loanPurpose, occType]\n",
    "  return model.predict(array([L]))\n",
    "test_data = df[upperLimit:]\n",
    "test_x = test_data.drop(columns = [\"currLoanDelinquencyStatus\"])\n",
    "print(test_x[0:10])\n",
    "test_y_predictions = predict(test_x)\n",
    "#test_y_predictions = predictModel([1,2,1,2,1,2,1,2,1,2,1,2,1,2])\n",
    "print(test_y_predictions)\n",
    "\n",
    "numCorrect = 0\n",
    "numWrong = 0\n",
    "#print(df)\n",
    "#print(upperLimit)\n",
    "bad = 0\n",
    "for i in range(0, df.shape[0]-upperLimit):\n",
    "  if test_y_predictions[i][1] > 0.5:\n",
    "    if df.at[i,\"currLoanDelinquencyStatus\"] == 1:\n",
    "      numCorrect += 1\n",
    "      #bad += 1\n",
    "    else:\n",
    "      numWrong += 1\n",
    "  else:\n",
    "    if df.at[i,\"currLoanDelinquencyStatus\"] == 1:\n",
    "      numWrong += 1\n",
    "    else:\n",
    "      numCorrect += 1\n",
    "print(\"Number of wrong guesses:\", numWrong)\n",
    "print(\"Number of correct guesses:\", numCorrect)\n",
    "#print(\"Bad\", bad)\n",
    "def pred(currIntRate= 0, currActualUPB= 0, loanAge= 0, remainingMonthsToLegalMaturity= 0, origIntRate= 0, orgUPB= 0, orgLoanTerm= 0, orgCombinedLTV= 0, \n",
    "        numBorrowers= 0, orgDebttoIncomeRatio= 0, borrowerCreditScoreAtOrigination= 0, firstTimeHomeBuyer= 0, loanPurpose= 0, occType= 0):\n",
    "  return model.predict(array([currIntRate, currActualUPB, loanAge, remainingMonthsToLegalMaturity, origIntRate, orgUPB, orgLoanTerm, orgCombinedLTV, \n",
    "        numBorrowers, orgDebttoIncomeRatio, borrowerCreditScoreAtOrigination, firstTimeHomeBuyer, loanPurpose, occType]))"
   ]
  },
  {
   "cell_type": "code",
   "execution_count": null,
   "metadata": {},
   "outputs": [
    {
     "ename": "ModuleNotFoundError",
     "evalue": "No module named 'numpy.core._multiarray_umath'",
     "output_type": "error",
     "traceback": [
      "\u001b[1;31m---------------------------------------------------------------------------\u001b[0m",
      "\u001b[1;31mModuleNotFoundError\u001b[0m                       Traceback (most recent call last)",
      "\u001b[1;31mModuleNotFoundError\u001b[0m: No module named 'numpy.core._multiarray_umath'"
     ]
    },
    {
     "ename": "SystemError",
     "evalue": "<class '_frozen_importlib._ModuleLockManager'> returned a result with an error set",
     "output_type": "error",
     "traceback": [
      "\u001b[1;31m---------------------------------------------------------------------------\u001b[0m",
      "\u001b[1;31mImportError\u001b[0m                               Traceback (most recent call last)",
      "\u001b[1;31mImportError\u001b[0m: numpy.core.multiarray failed to import",
      "\nThe above exception was the direct cause of the following exception:\n",
      "\u001b[1;31mSystemError\u001b[0m                               Traceback (most recent call last)",
      "\u001b[1;32m~\\Anaconda3\\lib\\importlib\\_bootstrap.py\u001b[0m in \u001b[0;36m_find_and_load\u001b[1;34m(name, import_)\u001b[0m\n",
      "\u001b[1;31mSystemError\u001b[0m: <class '_frozen_importlib._ModuleLockManager'> returned a result with an error set"
     ]
    },
    {
     "ename": "ImportError",
     "evalue": "numpy.core._multiarray_umath failed to import",
     "output_type": "error",
     "traceback": [
      "\u001b[1;31m---------------------------------------------------------------------------\u001b[0m",
      "\u001b[1;31mImportError\u001b[0m                               Traceback (most recent call last)",
      "\u001b[1;31mImportError\u001b[0m: numpy.core._multiarray_umath failed to import"
     ]
    },
    {
     "ename": "ImportError",
     "evalue": "numpy.core.umath failed to import",
     "output_type": "error",
     "traceback": [
      "\u001b[1;31m---------------------------------------------------------------------------\u001b[0m",
      "\u001b[1;31mImportError\u001b[0m                               Traceback (most recent call last)",
      "\u001b[1;31mImportError\u001b[0m: numpy.core.umath failed to import"
     ]
    }
   ],
   "source": [
    "from __future__ import absolute_import, division, print_function\n",
    "\n",
    "# TensorFlow and tf.keras\n",
    "import tensorflow as tf\n",
    "from tensorflow import keras\n",
    "\n",
    "# Helper libraries\n",
    "import numpy as np\n",
    "import matplotlib.pyplot as plt\n",
    "\n",
    "print(tf.__version__)\n"
   ]
  }
 ],
 "metadata": {
  "kernelspec": {
   "display_name": "Python 3",
   "language": "python",
   "name": "python3"
  },
  "language_info": {
   "codemirror_mode": {
    "name": "ipython",
    "version": 3
   },
   "file_extension": ".py",
   "mimetype": "text/x-python",
   "name": "python",
   "nbconvert_exporter": "python",
   "pygments_lexer": "ipython3",
   "version": "3.7.1"
  }
 },
 "nbformat": 4,
 "nbformat_minor": 2
}
